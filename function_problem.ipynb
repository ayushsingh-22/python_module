{
 "cells": [
  {
   "cell_type": "code",
   "execution_count": 6,
   "metadata": {},
   "outputs": [
    {
     "name": "stdout",
     "output_type": "stream",
     "text": [
      "Result of 2 number is  12\n"
     ]
    }
   ],
   "source": [
    "# Problem: Create a function that takes two numbers as parameters and returns their sum.\n",
    "num1 = int(input(\"Enter number1: \"))\n",
    "num2 = int(input(\"Enter number2: \"))\n",
    "\n",
    "\n",
    "def add_num(number1, number2):\n",
    "    return(number1+number2)\n",
    "\n",
    "result = add_num(num1, num2)\n",
    "\n",
    "print(\"Result of 2 number is \",result)"
   ]
  },
  {
   "cell_type": "code",
   "execution_count": 17,
   "metadata": {},
   "outputs": [
    {
     "name": "stdout",
     "output_type": "stream",
     "text": [
      "Area of circle =  24316.16\n",
      "Perimeter of circle =  552.64\n",
      "\n",
      "\n",
      "Area of circle = 24316.16\n",
      "Perimeter of circle = 552.64\n"
     ]
    }
   ],
   "source": [
    "# Problem: Create a function that returns both the area and circumference of a circle given its radius.\n",
    "\n",
    "radius =  int(input(\"Enter radius = \"))\n",
    "\n",
    "def circle(rad):\n",
    "    print(\"Area of circle = \",(3.14*(rad**2)))\n",
    "    print(\"Perimeter of circle = \",(3.14*rad*2))\n",
    "\n",
    "    # Aother approach\n",
    "\n",
    "def circle2(rad):\n",
    "    area = 3.14 * (rad ** 2)\n",
    "    perimeter = 2 * 3.14 * rad\n",
    "\n",
    "    print(\"Area of circle = {:.2f}\".format(area))\n",
    "    print(\"Perimeter of circle = {:.2f}\".format(perimeter))\n",
    "\n",
    "circle(radius)\n",
    "print(\"\\n\")\n",
    "circle2(radius)\n"
   ]
  }
 ],
 "metadata": {
  "kernelspec": {
   "display_name": "Python 3",
   "language": "python",
   "name": "python3"
  },
  "language_info": {
   "codemirror_mode": {
    "name": "ipython",
    "version": 3
   },
   "file_extension": ".py",
   "mimetype": "text/x-python",
   "name": "python",
   "nbconvert_exporter": "python",
   "pygments_lexer": "ipython3",
   "version": "3.12.2"
  }
 },
 "nbformat": 4,
 "nbformat_minor": 2
}
