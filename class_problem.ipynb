{
 "cells": [
  {
   "cell_type": "code",
   "execution_count": 22,
   "metadata": {},
   "outputs": [
    {
     "name": "stdout",
     "output_type": "stream",
     "text": [
      "Brand -->  TaTa\n",
      "Model -->  Nano\n"
     ]
    }
   ],
   "source": [
    "# Problem: Create a Car class with attributes like brand and model. Then create an instance of this class.\n",
    "\n",
    "class car:\n",
    "\n",
    "    def __init__(self, model, brand):\n",
    "        self.model = model\n",
    "        self.brand = brand\n",
    "\n",
    "\n",
    "ab = car(\"Nano\", \"TaTa\")\n",
    "print(\"Brand --> \",ab.brand)\n",
    "print(\"Model --> \",ab.model)"
   ]
  },
  {
   "cell_type": "code",
   "execution_count": 1,
   "metadata": {},
   "outputs": [
    {
     "name": "stdout",
     "output_type": "stream",
     "text": [
      "NEW -->  Thar\n",
      "New -->  Mahindra\n"
     ]
    }
   ],
   "source": [
    "# Problem: Add a method to the Car class that displays the full name of the car (brand and model).\n",
    "\n",
    "class car:\n",
    "\n",
    "    def __init__(self, model, brand):\n",
    "        self.model = model\n",
    "        self.brand = brand\n",
    "\n",
    "    def new(self,):\n",
    "        print (\"NEW --> \", self.model)\n",
    "        print(\"New --> \",self.brand)\n",
    "\n",
    "\n",
    "ab = car(\"Nano\", \"TaTa\")\n",
    "ab2 = car(\"Thar\", \"Mahindra\")\n",
    "# print(\"Brand --> \",ab.brand)\n",
    "# print(\"Model --> \",ab.model)\n",
    "ab2.new()"
   ]
  }
 ],
 "metadata": {
  "kernelspec": {
   "display_name": "Python 3",
   "language": "python",
   "name": "python3"
  },
  "language_info": {
   "codemirror_mode": {
    "name": "ipython",
    "version": 3
   },
   "file_extension": ".py",
   "mimetype": "text/x-python",
   "name": "python",
   "nbconvert_exporter": "python",
   "pygments_lexer": "ipython3",
   "version": "3.12.2"
  }
 },
 "nbformat": 4,
 "nbformat_minor": 2
}
