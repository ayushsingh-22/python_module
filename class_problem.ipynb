{
 "cells": [
  {
   "cell_type": "code",
   "execution_count": 22,
   "metadata": {},
   "outputs": [
    {
     "name": "stdout",
     "output_type": "stream",
     "text": [
      "Brand -->  TaTa\n",
      "Model -->  Nano\n"
     ]
    }
   ],
   "source": [
    "# Problem: Create a Car class with attributes like brand and model. Then create an instance of this class.\n",
    "\n",
    "class car:\n",
    "\n",
    "    def __init__(self, model, brand):\n",
    "        self.model = model\n",
    "        self.brand = brand\n",
    "\n",
    "\n",
    "ab = car(\"Nano\", \"TaTa\")\n",
    "print(\"Brand --> \",ab.brand)\n",
    "print(\"Model --> \",ab.model)"
   ]
  },
  {
   "cell_type": "code",
   "execution_count": 29,
   "metadata": {},
   "outputs": [
    {
     "ename": "TypeError",
     "evalue": "car.new() missing 1 required positional argument: 'brandd'",
     "output_type": "error",
     "traceback": [
      "\u001b[1;31m---------------------------------------------------------------------------\u001b[0m",
      "\u001b[1;31mTypeError\u001b[0m                                 Traceback (most recent call last)",
      "Cell \u001b[1;32mIn[29], line 18\u001b[0m\n\u001b[0;32m     15\u001b[0m ab2 \u001b[38;5;241m=\u001b[39m car(\u001b[38;5;124m\"\u001b[39m\u001b[38;5;124mThar\u001b[39m\u001b[38;5;124m\"\u001b[39m, \u001b[38;5;124m\"\u001b[39m\u001b[38;5;124mMahindra\u001b[39m\u001b[38;5;124m\"\u001b[39m)\n\u001b[0;32m     16\u001b[0m \u001b[38;5;66;03m# print(\"Brand --> \",ab.brand)\u001b[39;00m\n\u001b[0;32m     17\u001b[0m \u001b[38;5;66;03m# print(\"Model --> \",ab.model)\u001b[39;00m\n\u001b[1;32m---> 18\u001b[0m \u001b[43mab2\u001b[49m\u001b[38;5;241;43m.\u001b[39;49m\u001b[43mnew\u001b[49m\u001b[43m(\u001b[49m\u001b[43m)\u001b[49m\n",
      "\u001b[1;31mTypeError\u001b[0m: car.new() missing 1 required positional argument: 'brandd'"
     ]
    }
   ],
   "source": [
    "# Problem: Add a method to the Car class that displays the full name of the car (brand and model).\n",
    "\n",
    "class car:\n",
    "\n",
    "    def __init__(self, model, brand):\n",
    "        self.model = model\n",
    "        self.brand = brand\n",
    "\n",
    "    def new(self,):\n",
    "        print (\"NEW --> \", self.model)\n",
    "        print(\"New --> \",self.brand)\n",
    "\n",
    "\n",
    "ab = car(\"Nano\", \"TaTa\")\n",
    "ab2 = car(\"Thar\", \"Mahindra\")\n",
    "# print(\"Brand --> \",ab.brand)\n",
    "# print(\"Model --> \",ab.model)\n",
    "ab2.new()"
   ]
  }
 ],
 "metadata": {
  "kernelspec": {
   "display_name": "Python 3",
   "language": "python",
   "name": "python3"
  },
  "language_info": {
   "codemirror_mode": {
    "name": "ipython",
    "version": 3
   },
   "file_extension": ".py",
   "mimetype": "text/x-python",
   "name": "python",
   "nbconvert_exporter": "python",
   "pygments_lexer": "ipython3",
   "version": "3.12.2"
  }
 },
 "nbformat": 4,
 "nbformat_minor": 2
}
