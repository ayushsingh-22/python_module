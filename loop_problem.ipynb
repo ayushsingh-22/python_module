{
 "cells": [
  {
   "cell_type": "code",
   "execution_count": 18,
   "metadata": {},
   "outputs": [
    {
     "name": "stdout",
     "output_type": "stream",
     "text": [
      "5 x 1 =  5\n",
      "5 x 2 =  10\n",
      "5 x 3 =  15\n",
      "5 x 4 =  20\n",
      "5 x 6 =  30\n",
      "5 x 7 =  35\n",
      "5 x 8 =  40\n",
      "5 x 9 =  45\n",
      "5 x 10 =  50\n"
     ]
    }
   ],
   "source": [
    "# Problem: Print the multiplication table for a given number up to 10, but skip the fifth iteration.\n",
    "number = int(input(\"Enter number = \"))\n",
    "\n",
    "count = 0\n",
    "\n",
    "for i in range(1,11):\n",
    "    count = count +1\n",
    "    if count==5:\n",
    "        exit()\n",
    "    else:\n",
    "        print(number,\"x\",i,\"= \",number*i)"
   ]
  },
  {
   "cell_type": "code",
   "execution_count": 19,
   "metadata": {},
   "outputs": [
    {
     "name": "stdout",
     "output_type": "stream",
     "text": [
      "78 is not prime number.\n"
     ]
    },
    {
     "ename": "",
     "evalue": "",
     "output_type": "error",
     "traceback": [
      "\u001b[1;31mThe Kernel crashed while executing code in the current cell or a previous cell. \n",
      "\u001b[1;31mPlease review the code in the cell(s) to identify a possible cause of the failure. \n",
      "\u001b[1;31mClick <a href='https://aka.ms/vscodeJupyterKernelCrash'>here</a> for more info. \n",
      "\u001b[1;31mView Jupyter <a href='command:jupyter.viewOutput'>log</a> for further details."
     ]
    }
   ],
   "source": [
    "# Problem: Check if a number is prime.\n",
    "\n",
    "number = int(input(\"Enter number = \"))\n",
    "\n",
    "if number<=0: \n",
    "    print(\"Enter valid number.\")\n",
    "\n",
    "prime_number = True\n",
    "\n",
    "for num in range(2, number):\n",
    "\n",
    "    if number%num == 0:\n",
    "        prime_number = False\n",
    "        break\n",
    "\n",
    "if(prime_number== True):\n",
    "    print(number,\"is prime number.\")\n",
    "else:\n",
    "    print(number,\"is not prime number.\")"
   ]
  },
  {
   "cell_type": "code",
   "execution_count": 17,
   "metadata": {},
   "outputs": [
    {
     "name": "stdout",
     "output_type": "stream",
     "text": [
      "['apple', 'banana', 'orange', 'apple']\n"
     ]
    }
   ],
   "source": [
    "# Problem: Check if all elements in a list are unique. If a duplicate is found, exit the loop and print the duplicate.\n",
    "\n",
    "items = [\"apple\", \"banana\", \"orange\", \"apple\", \"mango\"]\n",
    "\n",
    "print(items[0:4])"
   ]
  }
 ],
 "metadata": {
  "kernelspec": {
   "display_name": "Python 3",
   "language": "python",
   "name": "python3"
  },
  "language_info": {
   "codemirror_mode": {
    "name": "ipython",
    "version": 3
   },
   "file_extension": ".py",
   "mimetype": "text/x-python",
   "name": "python",
   "nbconvert_exporter": "python",
   "pygments_lexer": "ipython3",
   "version": "3.12.2"
  }
 },
 "nbformat": 4,
 "nbformat_minor": 2
}
